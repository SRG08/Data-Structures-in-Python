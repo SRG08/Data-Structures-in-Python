{
 "cells": [
  {
   "cell_type": "markdown",
   "metadata": {},
   "source": [
    "# Stacks and Queues Data Structure in Python"
   ]
  },
  {
   "cell_type": "markdown",
   "metadata": {
    "heading_collapsed": true
   },
   "source": [
    "## __Introduction to Stack__"
   ]
  },
  {
   "cell_type": "markdown",
   "metadata": {
    "hidden": true
   },
   "source": [
    "* **Stack is an Abstract Data Structure with features and operation.**\n",
    "* **Stack is the Data Structure which is just mathematical or logical model**\n",
    "* **Stack is a list with restructions with insertion ,delection operations with LIFO (Last in First Out) feature** \n",
    "\n",
    "> **Mainly the following three basic operations are performed in the stack**:\n",
    ">> * Push       :     Adds an item in the stack. If the stack is full, then it is said to be an Overflow condition.\n",
    ">> * Pop:       :     Removes an item from the stack. The items are popped in the reversed order in which they are pushed. If                        the stack is empty, then it is said to be an Underflow condition.\n",
    ">> * Peek or Top:     Returns top element of stack.\n",
    ">> * isEmpty    :     Returns true if stack is empty, else false.\n",
    "\n",
    "\n",
    "* The Time complexity for these operations is n(1) Constant Time"
   ]
  },
  {
   "cell_type": "markdown",
   "metadata": {
    "heading_collapsed": true,
    "hidden": true
   },
   "source": [
    "### __Implementation of the Stack (Array)__"
   ]
  },
  {
   "cell_type": "code",
   "execution_count": 7,
   "metadata": {
    "ExecuteTime": {
     "end_time": "2020-09-05T15:25:34.339678Z",
     "start_time": "2020-09-05T15:25:34.303708Z"
    },
    "hidden": true
   },
   "outputs": [
    {
     "name": "stdout",
     "output_type": "stream",
     "text": [
      "isEmpty : True\n",
      "Push : 10 Pushed in Stack\n",
      "Push : 20 Pushed in Stack\n",
      "Push : 30 Pushed in Stack\n",
      "Push : 40 Pushed in Stack\n",
      "isEmpty : False\n",
      "Stack list is : [10, 20, 30, 40]\n",
      "Peek of the stack is :  40\n",
      "popped :  40\n",
      "Stack list is : [10, 20, 30]\n"
     ]
    }
   ],
   "source": [
    "from sys import maxsize\n",
    "def stack():                       # Creating Stack \n",
    "    stack = []\n",
    "    return stack\n",
    "\n",
    "\n",
    "def push(stack , data):\n",
    "    stack.append(data)\n",
    "    return (\"%d Pushed in Stack\" %(data))\n",
    "\n",
    "def isEmpty(stack):\n",
    "    if len(stack) == 0:\n",
    "        return True\n",
    "    else:\n",
    "        return False\n",
    "\n",
    "\n",
    "# def pop(stack):\n",
    "#     if isEmpty(stack) is False:\n",
    "#         return (stack.pop())\n",
    "#     else:\n",
    "#         return (\"Stack is Empty\")\n",
    "\n",
    "# Function to remove an item from stack. It decreases size by 1 \n",
    "def pop(stack): \n",
    "    if (isEmpty(stack)): \n",
    "        return -1                  # return minus infinite \n",
    "    else:\n",
    "        return stack.pop()\n",
    "    \n",
    "\n",
    "def peek(stack):\n",
    "    if isEmpty(stack) is False:\n",
    "        return (stack[::-1][0])\n",
    "    else:\n",
    "        return (\"Stack is Empty\")\n",
    "\n",
    "# def stackPrint(stack):\n",
    "#     count = 0\n",
    "#     if len(stack) != 0:\n",
    "#         for i in range(len(stack)):\n",
    "#             print(\"Stack pop sequence {} : {} \".format(count , i))\n",
    "#         count += 1 \n",
    "#     else:\n",
    "#         print(\"Stack Empty\")\n",
    "\n",
    "\n",
    "\n",
    "# ************** Function Call *************\n",
    "\n",
    "stack = stack()\n",
    "print(\"isEmpty :\", isEmpty(stack))\n",
    "\n",
    "print(\"Push :\", push(stack , 10))\n",
    "print(\"Push :\", push(stack , 20))\n",
    "print(\"Push :\", push(stack , 30))\n",
    "print(\"Push :\", push(stack , 40))\n",
    "\n",
    "print(\"isEmpty :\", isEmpty(stack))\n",
    "\n",
    "print(\"Stack list is :\" , stack)\n",
    "\n",
    "print(\"Peek of the stack is : \" , peek(stack))\n",
    "\n",
    "print(\"popped : \" , pop(stack))\n",
    "\n",
    "print(\"Stack list is :\" , stack)"
   ]
  },
  {
   "cell_type": "markdown",
   "metadata": {
    "heading_collapsed": true,
    "hidden": true
   },
   "source": [
    "### __Implementation of the Stack (Linked list)__"
   ]
  },
  {
   "cell_type": "code",
   "execution_count": 68,
   "metadata": {
    "ExecuteTime": {
     "end_time": "2020-09-05T11:31:22.841889Z",
     "start_time": "2020-09-05T11:31:22.804908Z"
    },
    "hidden": true
   },
   "outputs": [
    {
     "name": "stdout",
     "output_type": "stream",
     "text": [
      "\n",
      "******* Top Most Node (Push)*********\n",
      "\n",
      "10 Pushed in Stack\n",
      "20 Pushed in Stack\n",
      "30 Pushed in Stack\n",
      "\n",
      "******* Top Most Node (Peak)*********\n",
      "\n",
      "Top Most Node is : 30\n",
      "\n",
      "******* Check Stack (isEmpty)*********\n",
      "\n",
      "False\n",
      "\n",
      "******* Pop Node (Pop)*********\n",
      "\n",
      "Popped Node is : 30\n",
      "\n",
      "******* Print Whole Stack *********\n",
      "\n",
      "pop sequence is 0 : 20\n",
      "pop sequence is 1 : 10\n"
     ]
    }
   ],
   "source": [
    "class StackNode:\n",
    "    def __init__(self , data):\n",
    "        self.data = data\n",
    "        self.next = None\n",
    "        \n",
    "class StackOperations:\n",
    "    \n",
    "    def __init__(self):\n",
    "        self.first = None   # Defining first position of the stack as empty or none\n",
    "        \n",
    "    def isStackEmpty(self):                              # isEmpty Operation\n",
    "        if self.first is None:\n",
    "            return True\n",
    "        else:\n",
    "            return False\n",
    "            \n",
    "    def stackPush(self , newNode):                                 # push Operation\n",
    "        newNode.next  = self.first\n",
    "        self.first = newNode\n",
    "        print(\"%d Pushed in Stack\" %(newNode.data))\n",
    "            \n",
    "    \n",
    "    def stackPop(self):                                            # pop Operation\n",
    "        if self.isStackEmpty() is True:\n",
    "            return (\"Stack is Empty\")\n",
    "        else:\n",
    "            temp = self.first\n",
    "            self.first = self.first.next\n",
    "            popped = temp\n",
    "            return (\"Popped Node is : {}\".format(popped.data))\n",
    "            \n",
    "                    \n",
    "    \n",
    "    def stackPeek(self):                                 # peek Operation\n",
    "        if self.isStackEmpty() is True:\n",
    "            return (\"Stack is Empty\")  # float(\"-inf\")\n",
    "        else:\n",
    "            return (\"Top Most Node is : {}\".format(self.first.data))\n",
    "        \n",
    "        \n",
    "# *********** Printing Whole Stack **************\n",
    "            \n",
    "    def printWholeStack(self):\n",
    "        count = 0\n",
    "        if self.first is None:\n",
    "            print(\"Stack is Empty\")\n",
    "        else:\n",
    "            currentNode = self.first\n",
    "            while True:\n",
    "                if currentNode is None:\n",
    "                    break\n",
    "                print(\"pop sequence is {} : {}\".format(count, currentNode.data))\n",
    "                count = count+1\n",
    "                currentNode = currentNode.next\n",
    "            \n",
    "# ********** Method Call **********\n",
    " \n",
    "firstNode = StackNode(10)\n",
    "secondNode = StackNode(20)\n",
    "thirdNode = StackNode(30)\n",
    "\n",
    "print('\\n'\"******* Top Most Node (Push)*********\"'\\n')\n",
    "\n",
    "stack = StackOperations()\n",
    "stack.stackPush(firstNode)\n",
    "stack.stackPush(secondNode)\n",
    "stack.stackPush(thirdNode)\n",
    "\n",
    "print('\\n'\"******* Top Most Node (Peak)*********\"'\\n')\n",
    "\n",
    "print(stack.stackPeek())\n",
    "\n",
    "print('\\n'\"******* Check Stack (isEmpty)*********\"'\\n')\n",
    "\n",
    "print(stack.isStackEmpty())\n",
    "\n",
    "print('\\n'\"******* Pop Node (Pop)*********\"'\\n')\n",
    "\n",
    "print(stack.stackPop())\n",
    "\n",
    "print('\\n'\"******* Print Whole Stack *********\"'\\n')\n",
    "\n",
    "stack.printWholeStack()\n"
   ]
  },
  {
   "cell_type": "markdown",
   "metadata": {
    "ExecuteTime": {
     "end_time": "2020-09-05T11:32:40.807375Z",
     "start_time": "2020-09-05T11:32:40.803381Z"
    },
    "heading_collapsed": true
   },
   "source": [
    "## __Introduction to Queues__"
   ]
  },
  {
   "cell_type": "markdown",
   "metadata": {
    "hidden": true
   },
   "source": [
    "* **Queue is an Abstract Data Structure with features and operation.**\n",
    "* **Queue is the Data Structure which is just mathematical or logical model**\n",
    "* **Stack is a list with restructions with insertion ,delection operations with FIFO (First in First Out) feature**\n",
    "\n",
    "> **Mainly the following four basic operations are performed on queue:**\n",
    "\n",
    ">> * Enqueue         : Adds an item to the queue. If the queue is full, then it is said to be an Overflow condition.\n",
    ">> * Dequeue         : Removes an item from the queue. The items are popped in the same order in which they are pushed. If the                        queue is empty, then it is said to be an Underflow condition.\n",
    ">> * Front           : Get the front item from queue.\n",
    ">> * Rear            : Get the last item from queue\n",
    "\n",
    "* The Time complexity for these operations is n(1) Constant Time"
   ]
  },
  {
   "cell_type": "markdown",
   "metadata": {
    "heading_collapsed": true,
    "hidden": true
   },
   "source": [
    "### __Implementation of the Queue (Array)__"
   ]
  },
  {
   "cell_type": "code",
   "execution_count": 199,
   "metadata": {
    "ExecuteTime": {
     "end_time": "2020-09-06T09:26:33.123044Z",
     "start_time": "2020-09-06T09:26:33.091052Z"
    },
    "hidden": true,
    "scrolled": false
   },
   "outputs": [
    {
     "name": "stdout",
     "output_type": "stream",
     "text": [
      "Capacity : -1\n",
      "Queue is Full ?  False\n",
      "Queue is empty ?  True\n",
      "Capacity : 5\n",
      "item enqueued : 10\n",
      "item enqueued : 20\n",
      "item enqueued : 30\n",
      "item enqueued : 40\n",
      "item enqueued : 50\n",
      "Queue is empty ?  False\n",
      "Queue is Full ?  True\n",
      "Front Item :  10\n",
      "Rear Item :  50\n",
      "item dequeue : 10\n",
      "item dequeue : 20\n",
      "Queue is empty ?  False\n",
      "Queue is Full ?  False\n",
      "[10, 20, 30, 40, 50]\n",
      "Front Item :  30\n",
      "Rear Item :  50\n",
      "[10, 20, 30, 40, 50]\n"
     ]
    }
   ],
   "source": [
    "class Queue:\n",
    "    \n",
    "    def __init__(self,capacity):            # \"capacity\" As it is an array we have to allocate memory\n",
    "        self.front = self.size = 0\n",
    "        self.rear = capacity -1\n",
    "        self.Que = [None]*capacity\n",
    "        self.capacity = capacity      \n",
    "        \n",
    "    def isFull(self):\n",
    "        if self.size == self.capacity:\n",
    "            return True\n",
    "        else:\n",
    "            return False\n",
    "        \n",
    "    def isEmpty(self):\n",
    "        if self.size == 0:\n",
    "            return True\n",
    "        else:\n",
    "            return False        \n",
    "    \n",
    "    def enQueue(self , newItem ):\n",
    "        if self.isFull() is True:\n",
    "            return (\"size is full\")\n",
    "        else:\n",
    "#             print(\"rear begin\", self.rear +1)\n",
    "#             print(\"capacity begin\" , self.capacity)\n",
    "            self.rear = (self.rear + 1) % (self.capacity)          # Increasing index of the queue rear \n",
    "            self.Que[self.rear] = newItem                          # inserting in new index\n",
    "            self.size = self.size + 1                              # Increasing the size of array\n",
    "            print(\"item enqueued : % s\" % str(newItem))\n",
    "#             print(\"rear End\",self.rear)\n",
    "#             print(\"capacity End\" , self.capacity)\n",
    "    \n",
    "    def deQueue(self):\n",
    "        if self.isEmpty() is True:\n",
    "            return (\"size is full\")\n",
    "        else:\n",
    "#             print(\"Front Begin\",self.front)\n",
    "#             print(\"Size end\" , self.size)\n",
    "#             print(\"capacity begin\" , self.capacity)\n",
    "            print(\"item dequeue : % s\" % self.Que[self.front])\n",
    "            self.front = (self.front + 1) % (self.capacity)        # Finding index of the queue front\n",
    "            self.size = self.size - 1\n",
    "#             print(\"Front end\",self.front)\n",
    "#             print(\"Size end\" , self.size)\n",
    "#             print(\"capacity end\" , self.capacity)\n",
    "\n",
    "    \n",
    "    def queFront(self):\n",
    "        if self.isEmpty() is True:\n",
    "            return (\"size is full\")\n",
    "        else:\n",
    "            print(\"Front Item : \" , self.Que[self.front])\n",
    "    \n",
    "    def queRear(self):\n",
    "        if self.isEmpty() is True:\n",
    "            return (\"size is full\")\n",
    "        else:\n",
    "            print(\"Rear Item : \" , self.Que[self.rear])\n",
    "    \n",
    "    def printQue(self):\n",
    "        print(self.Que)\n",
    "    \n",
    "    \n",
    "    \n",
    "# ************ Method Calls**********\n",
    "\n",
    "queue = Queue(-1)\n",
    "print(\"Capacity :\", queue.capacity)         # Queue capacity\n",
    "print(\"Queue is Full ? \" , queue.isFull())\n",
    "print(\"Queue is empty ? \" , queue.isEmpty())\n",
    "queue = Queue(5)\n",
    "print(\"Capacity :\", queue.capacity) \n",
    "queue.enQueue(10)\n",
    "queue.enQueue(20)\n",
    "queue.enQueue(30)\n",
    "queue.enQueue(40)\n",
    "queue.enQueue(50)\n",
    "queue.enQueue(60)\n",
    "print(\"Queue is empty ? \" , queue.isEmpty())\n",
    "print(\"Queue is Full ? \" , queue.isFull())\n",
    "queue.queFront()             # queFront\n",
    "queue.queRear()              # queRear\n",
    "queue.deQueue()              # deQueue \n",
    "queue.deQueue()              # deQueue \n",
    "print(\"Queue is empty ? \" , queue.isEmpty())\n",
    "print(\"Queue is Full ? \" , queue.isFull())\n",
    "queue.printQue()\n",
    "queue.queFront()\n",
    "queue.queRear()\n",
    "queue.printQue()"
   ]
  },
  {
   "cell_type": "markdown",
   "metadata": {
    "heading_collapsed": true,
    "hidden": true
   },
   "source": [
    "### __Implementation of the Queue (Linked List)__"
   ]
  },
  {
   "cell_type": "code",
   "execution_count": 269,
   "metadata": {
    "ExecuteTime": {
     "end_time": "2020-09-06T11:02:23.470344Z",
     "start_time": "2020-09-06T11:02:23.442356Z"
    },
    "hidden": true
   },
   "outputs": [
    {
     "name": "stdout",
     "output_type": "stream",
     "text": [
      "Queue sequence is 0 : 10\n",
      "Queue sequence is 1 : 20\n",
      "Queue sequence is 2 : 30\n",
      "Queue sequence is 3 : 40\n",
      "Front Node is : 10\n",
      "Rear Node is : 40\n",
      "Node deQueued : 10\n",
      "Node deQueued : 20\n",
      "Front Node is : 30\n",
      "Rear Node is : 40\n",
      "Queue sequence is 0 : 30\n",
      "Queue sequence is 1 : 40\n"
     ]
    }
   ],
   "source": [
    "class Node:\n",
    "    def __init__(self, data):\n",
    "        self.data = data\n",
    "        self.next = None\n",
    "        \n",
    "class Linkedlist:\n",
    "    def __init__(self):\n",
    "        self.front = self.rear = None\n",
    "        \n",
    "    def isEmpty(self):\n",
    "        if self.front == 0 and self.rear == 0:\n",
    "            return True\n",
    "        else:\n",
    "            return False\n",
    "    \n",
    "    def enQueue(self, newItem):\n",
    "        if self.isEmpty() is True:\n",
    "            return (\"List is Empty\")\n",
    "        else:\n",
    "            while True:\n",
    "                if self.rear == None:\n",
    "                    self.rear = self.front = newItem\n",
    "#                     print (\"Node enQueued :\" , self.rear.data)\n",
    "                    return\n",
    "                self.rear.next = newItem\n",
    "                self.rear = newItem\n",
    "#                 print (\"Node enQueued :\" , self.rear.data)\n",
    "                return\n",
    "                \n",
    "    def deQueue(self):\n",
    "        if self.isEmpty() is True:\n",
    "            return (\"List is Empty\")\n",
    "        else:\n",
    "            print (\"Node deQueued :\" , self.front.data)\n",
    "            temp = self.front\n",
    "            self.front = self.front.next\n",
    "        if self.front == None:\n",
    "            self.rear = None\n",
    "            \n",
    "                    \n",
    "    \n",
    "    def queFront(self):\n",
    "        if self.isEmpty() is True:\n",
    "            print(\"List is Empty\")\n",
    "            return\n",
    "        else:\n",
    "            print(\"Front Node is :\", self.front.data)\n",
    "    \n",
    "    def queRear(self):\n",
    "        if self.isEmpty() is True:\n",
    "            print(\"List is Empty\")\n",
    "            return\n",
    "        else:\n",
    "            print(\"Rear Node is :\", self.rear.data)\n",
    "            \n",
    "    \n",
    "    def quePrint(self):\n",
    "        if self.isEmpty() is True:\n",
    "            return (\"List is Empty\")\n",
    "        else:\n",
    "            count = 0\n",
    "            currentNode = self.front\n",
    "            while True:\n",
    "                if currentNode is None:\n",
    "                    break\n",
    "                print(\"Queue sequence is {} : {}\".format(count, currentNode.data))      \n",
    "                currentNode = currentNode.next\n",
    "                count +=1            \n",
    "    \n",
    "# ********** MERHOD CALL ***********\n",
    "\n",
    "# Create Node\n",
    "firstNode = Node(10)\n",
    "secondNode = Node(20)\n",
    "thirdNode = Node(30)\n",
    "fourthNode = Node(40)\n",
    "# print(firstNode.data)\n",
    "linked = Linkedlist()\n",
    "linked.enQueue(firstNode)\n",
    "linked.enQueue(secondNode)\n",
    "linked.enQueue(thirdNode)\n",
    "linked.enQueue(fourthNode)\n",
    "linked.quePrint()\n",
    "linked.queFront()\n",
    "linked.queRear()\n",
    "linked.deQueue()\n",
    "linked.deQueue()\n",
    "linked.queFront()\n",
    "linked.queRear()\n",
    "linked.quePrint()"
   ]
  },
  {
   "cell_type": "code",
   "execution_count": null,
   "metadata": {
    "hidden": true
   },
   "outputs": [],
   "source": []
  },
  {
   "cell_type": "code",
   "execution_count": null,
   "metadata": {
    "hidden": true
   },
   "outputs": [],
   "source": []
  }
 ],
 "metadata": {
  "kernelspec": {
   "display_name": "Python 3",
   "language": "python",
   "name": "python3"
  },
  "language_info": {
   "codemirror_mode": {
    "name": "ipython",
    "version": 3
   },
   "file_extension": ".py",
   "mimetype": "text/x-python",
   "name": "python",
   "nbconvert_exporter": "python",
   "pygments_lexer": "ipython3",
   "version": "3.6.5"
  },
  "nbTranslate": {
   "displayLangs": [
    "*"
   ],
   "hotkey": "alt-t",
   "langInMainMenu": true,
   "sourceLang": "en",
   "targetLang": "fr",
   "useGoogleTranslate": true
  },
  "toc": {
   "base_numbering": 1,
   "nav_menu": {},
   "number_sections": true,
   "sideBar": false,
   "skip_h1_title": true,
   "title_cell": "Table of Contents",
   "title_sidebar": "Contents",
   "toc_cell": false,
   "toc_position": {},
   "toc_section_display": false,
   "toc_window_display": false
  },
  "varInspector": {
   "cols": {
    "lenName": 16,
    "lenType": 16,
    "lenVar": 40
   },
   "kernels_config": {
    "python": {
     "delete_cmd_postfix": "",
     "delete_cmd_prefix": "del ",
     "library": "var_list.py",
     "varRefreshCmd": "print(var_dic_list())"
    },
    "r": {
     "delete_cmd_postfix": ") ",
     "delete_cmd_prefix": "rm(",
     "library": "var_list.r",
     "varRefreshCmd": "cat(var_dic_list()) "
    }
   },
   "types_to_exclude": [
    "module",
    "function",
    "builtin_function_or_method",
    "instance",
    "_Feature"
   ],
   "window_display": false
  }
 },
 "nbformat": 4,
 "nbformat_minor": 2
}
