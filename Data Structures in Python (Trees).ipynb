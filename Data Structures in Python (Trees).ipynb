{
 "cells": [
  {
   "cell_type": "markdown",
   "metadata": {},
   "source": [
    "# Data Structures in Python (Trees)"
   ]
  },
  {
   "cell_type": "markdown",
   "metadata": {},
   "source": [
    "## __Introduction to Tree__"
   ]
  },
  {
   "cell_type": "markdown",
   "metadata": {},
   "source": [
    "* Trees are non-linear data structures also called as hierarchical data structures\n",
    "* Trees are recursive data structure with a root node (A distinguished node) , parent node and child nodes logical relationship\n",
    "* Tree with \"N\" Nodes will have \"N-1\" edges\n",
    "* Depth of a Tree for \"Node A\" can be defined as the length of the path from root to \"Node A\" which will contribute 1 unit (No of edges) to length.\n",
    "* A leaf node is a node with \"0\" child Nodes.\n",
    "* The Depth of Root Node is  \"0\"\n",
    "* Height of the Tree for \"leaf B\" to parent \"Node A\" can be defined as the number of edges in longest path from \"leaf B\" to \"Node A\". The height of the leaf node is \"0\"\n",
    "* Binary tree is the tree in which each node can have at most 2 child nodes.\n",
    "* Application of Tree includes:\n",
    "    * Storing Naturally -  File system\n",
    "    * Organizing Data for quick search ,  insertion and delection  - Binary search trees\n",
    "    * trie - Dictionary for dynamically spell checking\n",
    "    * Network routing algorithms"
   ]
  },
  {
   "cell_type": "markdown",
   "metadata": {
    "heading_collapsed": true
   },
   "source": [
    "### __Simple Tree__"
   ]
  },
  {
   "cell_type": "code",
   "execution_count": 31,
   "metadata": {
    "ExecuteTime": {
     "end_time": "2020-09-07T06:26:35.620535Z",
     "start_time": "2020-09-07T06:26:35.608517Z"
    },
    "hidden": true
   },
   "outputs": [],
   "source": [
    "class Node:\n",
    "    \n",
    "    def __init__(self, dataKey):\n",
    "        self.left = None\n",
    "        self.right = None\n",
    "        self.val = dataKey\n",
    "        \n",
    "# ******** METHOD CALL ********\n",
    "root = Node(1)\n",
    "print(root.val)"
   ]
  },
  {
   "cell_type": "code",
   "execution_count": 61,
   "metadata": {
    "ExecuteTime": {
     "end_time": "2020-09-07T06:56:24.763491Z",
     "start_time": "2020-09-07T06:56:24.754499Z"
    },
    "hidden": true
   },
   "outputs": [
    {
     "name": "stdout",
     "output_type": "stream",
     "text": [
      "1\n"
     ]
    }
   ],
   "source": [
    "class Node:\n",
    "    \n",
    "    def __init__(self, dataKey):\n",
    "        self.left = None\n",
    "        self.right = None\n",
    "        self.val = dataKey\n",
    "        \n",
    "    def printTree(self):\n",
    "        print(self.val)\n",
    "        \n",
    "        \n",
    "        \n",
    "# ******** METHOD CALL ********\n",
    "root = Node(1)\n",
    "root.left = Node(2)\n",
    "root.right = Node(3)\n",
    "root.left.left = Node(4)\n",
    "# root.left.left.left = Node(5)\n",
    "root.left.right = Node(6)\n",
    "\n",
    "# print(\"level 0 Root :\" , root.val)\n",
    "# print(\"Level 1 left\" , root.left.val )\n",
    "# print(\"Level 1 Right\" , root.right.val)\n",
    "# print(\"Level 2 left\", root.left.left.val)\n",
    "# print(\"Level 2 right\" , root.left.right.val)\n",
    "\n",
    "root.printTree()"
   ]
  },
  {
   "cell_type": "markdown",
   "metadata": {
    "heading_collapsed": true
   },
   "source": [
    "### __Binary Tree__"
   ]
  },
  {
   "cell_type": "markdown",
   "metadata": {
    "ExecuteTime": {
     "end_time": "2020-09-07T05:52:42.051661Z",
     "start_time": "2020-09-07T05:52:42.031651Z"
    },
    "hidden": true
   },
   "source": [
    "**<u>Properties of Binnary tree :</u>**\n",
    "\n",
    "* The maximum number of nodes at level ‘l’ of a binary tree is 2^l.\n",
    "* Maximum number of nodes in a binary tree of height ‘h’ is 2^h – 1.\n",
    "* In a Binary Tree with N nodes, minimum possible height or minimum number of levels is Log2(N+1)\n",
    "* A Binary Tree with L leaves has at least Log2L  + 1   levels\n",
    "* In a Full Binary Tree, number of leaf nodes is the number of internal nodes plus 1"
   ]
  },
  {
   "cell_type": "markdown",
   "metadata": {
    "heading_collapsed": true,
    "hidden": true
   },
   "source": [
    "#### __Inserting a Node in Binary Tree__"
   ]
  },
  {
   "cell_type": "code",
   "execution_count": 82,
   "metadata": {
    "ExecuteTime": {
     "end_time": "2020-09-07T07:12:04.963726Z",
     "start_time": "2020-09-07T07:12:04.945718Z"
    },
    "hidden": true
   },
   "outputs": [
    {
     "name": "stdout",
     "output_type": "stream",
     "text": [
      "1\n",
      "3\n",
      "6\n",
      "14\n"
     ]
    }
   ],
   "source": [
    "class Node:\n",
    "    \n",
    "    def __init__(self, keydata):\n",
    "        self.left = None\n",
    "        self.right = None\n",
    "        self.val = keydata\n",
    "        \n",
    "    def insert(self , data):\n",
    "        if self.val:\n",
    "            if data < self.val:\n",
    "                if self.left is None:\n",
    "                    self.left = Node(data)\n",
    "                else:\n",
    "                    self.left.insert(data)                 \n",
    "            elif data > self.val:\n",
    "                if self.right is None:\n",
    "                    self.right = Node(data)\n",
    "                else:\n",
    "                    self.right.insert(data)\n",
    "        else:\n",
    "            self.val = data\n",
    "            \n",
    "        \n",
    "    def printTree(self):\n",
    "        if self.left:\n",
    "            self.left.printTree()\n",
    "        print(self.val)\n",
    "        if self.right:\n",
    "            self.right.printTree()\n",
    "#         print(self.val)\n",
    "        \n",
    "# ******** METHOD CALL ********\n",
    "root = Node(1)\n",
    "root.insert(6)\n",
    "root.insert(14)\n",
    "root.insert(3)\n",
    "\n",
    "root.printTree()"
   ]
  },
  {
   "cell_type": "markdown",
   "metadata": {
    "hidden": true
   },
   "source": [
    "#### __Depth First Traversals:__"
   ]
  },
  {
   "cell_type": "markdown",
   "metadata": {
    "heading_collapsed": true,
    "hidden": true
   },
   "source": [
    "##### __Inorder, Preorder and Postorder__"
   ]
  },
  {
   "cell_type": "markdown",
   "metadata": {
    "hidden": true
   },
   "source": [
    "<u>Algorithm Inorder(tree)</u>\n",
    "   1. Traverse the left subtree, i.e., call Inorder(left-subtree)\n",
    "   2. Visit the root.\n",
    "   3. Traverse the right subtree, i.e., call Inorder(right-subtree)\n",
    "   \n",
    "<u>Algorithm Preorder(tree)</u>\n",
    "   1. Visit the root.\n",
    "   2. Traverse the left subtree, i.e., call Preorder(left-subtree)\n",
    "   3. Traverse the right subtree, i.e., call Preorder(right-subtree)\n",
    "   \n",
    "<u>Algorithm Postorder(tree)</u>\n",
    "   1. Traverse the left subtree, i.e., call Postorder(left-subtree)\n",
    "   2. Traverse the right subtree, i.e., call Postorder(right-subtree)\n",
    "   3. Visit the root."
   ]
  },
  {
   "cell_type": "code",
   "execution_count": 9,
   "metadata": {
    "ExecuteTime": {
     "end_time": "2020-09-07T09:04:01.918435Z",
     "start_time": "2020-09-07T09:04:01.898447Z"
    },
    "hidden": true
   },
   "outputs": [
    {
     "name": "stdout",
     "output_type": "stream",
     "text": [
      "printInorder Start\n",
      "4\n",
      "2\n",
      "5\n",
      "1\n",
      "6\n",
      "3\n",
      "printInorder End\n",
      "printPreorder Start\n",
      "1\n",
      "2\n",
      "4\n",
      "5\n",
      "3\n",
      "6\n",
      "printPreorder End\n",
      "printPostorder Start\n",
      "4\n",
      "5\n",
      "2\n",
      "6\n",
      "3\n",
      "1\n",
      "printPostorder End\n"
     ]
    }
   ],
   "source": [
    "class Node:\n",
    "    \n",
    "    def __init__(self, data):\n",
    "        self.left = None\n",
    "        self.right = None\n",
    "        self.data = data\n",
    "        \n",
    "\n",
    "def printInorder(root):\n",
    "    if root:\n",
    "        printInorder(root.left)\n",
    "        print(root.data)\n",
    "        printInorder(root.right)\n",
    "\n",
    "def printPreorder(root):\n",
    "    if root:\n",
    "        print(root.data)\n",
    "        printPreorder(root.left)\n",
    "        printPreorder(root.right)\n",
    "\n",
    "def printPostorder(root):\n",
    "    if root:\n",
    "        printPostorder(root.left)\n",
    "        printPostorder(root.right)\n",
    "        print(root.data)\n",
    "        \n",
    "\n",
    "        \n",
    "# ********** Method Call **********\n",
    "\n",
    "root = Node(1)\n",
    "root.left = Node(2)\n",
    "root.left.left = Node(4)\n",
    "root.left.right = Node(5)\n",
    "root.right = Node(3)\n",
    "root.right.left = Node(6)\n",
    "\n",
    "print(\"printInorder Start\")\n",
    "printInorder(root)\n",
    "print(\"printInorder End\")\n",
    "\n",
    "\n",
    "print(\"printPreorder Start\")\n",
    "printPreorder(root)\n",
    "print(\"printPreorder End\")\n",
    "\n",
    "\n",
    "print(\"printPostorder Start\")\n",
    "printPostorder(root)\n",
    "print(\"printPostorder End\")"
   ]
  },
  {
   "cell_type": "markdown",
   "metadata": {
    "heading_collapsed": true,
    "hidden": true
   },
   "source": [
    "#### __Breadth First Traversals: (Level order traversal)__"
   ]
  },
  {
   "cell_type": "code",
   "execution_count": 15,
   "metadata": {
    "ExecuteTime": {
     "end_time": "2020-09-07T09:28:29.981762Z",
     "start_time": "2020-09-07T09:28:29.960758Z"
    },
    "hidden": true
   },
   "outputs": [
    {
     "name": "stdout",
     "output_type": "stream",
     "text": [
      "1 2 3 4 5 6 "
     ]
    }
   ],
   "source": [
    "# BFT using Functions\n",
    "\n",
    "class Node:\n",
    "    def __init__(self, data):\n",
    "        self.left = None\n",
    "        self.right = None\n",
    "        self.data = data\n",
    "        \n",
    "\n",
    "def printLevelOrder(root):\n",
    "    treeHeight = getHeight(root)\n",
    "    for i in range(1+ treeHeight+1):\n",
    "        printLevel(root , i)\n",
    "        \n",
    "        \n",
    "def getHeight(root):                              # Helper Function \"HEIGHT OF THE BINARY TREE\"\n",
    "    if root is None:\n",
    "        return 0\n",
    "    else:\n",
    "        leftheight = getHeight(root.left)\n",
    "        rightheight = getHeight(root.right)\n",
    "        \n",
    "        if leftheight >  rightheight:\n",
    "            return leftheight + 1\n",
    "        else:\n",
    "            return rightheight + 1\n",
    "\n",
    "def printLevel(root, level):                             # Helper Function\n",
    "    if root is None:\n",
    "        return 0\n",
    "    \n",
    "    if level == 1:\n",
    "        print(root.data , end =\" \")\n",
    "    elif level > 1:\n",
    "        printLevel(root.left , level-1)\n",
    "        printLevel(root.right , level-1)\n",
    "        \n",
    "\n",
    "# ************ FUNCTION CALL ************\n",
    "\n",
    "root = Node(1)\n",
    "root.left = Node(2)\n",
    "root.left.left = Node(4)\n",
    "root.left.right = Node(5)\n",
    "root.right = Node(3)\n",
    "root.right.left = Node(6)\n",
    "\n",
    "\n",
    "printLevelOrder(root)"
   ]
  },
  {
   "cell_type": "markdown",
   "metadata": {
    "heading_collapsed": true,
    "hidden": true
   },
   "source": [
    "#### __Identical Binary Trees__"
   ]
  },
  {
   "cell_type": "code",
   "execution_count": 14,
   "metadata": {
    "ExecuteTime": {
     "end_time": "2020-09-07T11:03:56.012770Z",
     "start_time": "2020-09-07T11:03:55.984780Z"
    },
    "hidden": true
   },
   "outputs": [
    {
     "name": "stdout",
     "output_type": "stream",
     "text": [
      "Non Identical Trees\n"
     ]
    }
   ],
   "source": [
    "class Node:\n",
    "    def __init__(self, data):\n",
    "        self.left = None\n",
    "        self.right = None\n",
    "        self.data = data\n",
    "        \n",
    "def findIdentical(treeA , treeB):\n",
    "    \n",
    "    if treeA is None and treeB is None:\n",
    "        return(\"Identical Trees\")\n",
    "    \n",
    "    if treeA is not None and treeB is not None:\n",
    "        return (treeA.data == treeB.data) and \\\n",
    "    findIdentical(treeA.left , treeB.left) and \\\n",
    "    findIdentical(treeA.right , treeB.right)\n",
    "    \n",
    "    print(\"Non Identical Trees\")\n",
    "    return\n",
    "    \n",
    "    \n",
    "    \n",
    "# ********** FUNCTION CALL ************** \n",
    "root1 = Node(1) \n",
    "root1.left = Node(2) \n",
    "root1.right = Node(3) \n",
    "root1.left.left = Node(4) \n",
    "root1.left.right = Node(5)\n",
    "\n",
    "\n",
    "root2 = Node(1) \n",
    "root2.left = Node(2) \n",
    "root2.right = Node(3) \n",
    "root2.left.left = Node(4) \n",
    "root2.left.right = Node(5)\n",
    "root2.right.left = Node(6)\n",
    "\n",
    "\n",
    "findIdentical(root1, root2)"
   ]
  },
  {
   "cell_type": "markdown",
   "metadata": {
    "heading_collapsed": true
   },
   "source": [
    "### __Binary Search Tree__"
   ]
  },
  {
   "cell_type": "markdown",
   "metadata": {
    "hidden": true
   },
   "source": [
    "**</u>A binary search tree is a special type of binary tree that has the following properties:</u>**\n",
    "\n",
    "   * The value of nodes in the left subtree are always lesser than or equal to the parent node\n",
    "   * The value nodes in the right subtree are always greater than or equal to the parent node\n",
    "   * Both the left and the right subtree are also binary search trees themselves"
   ]
  },
  {
   "cell_type": "markdown",
   "metadata": {
    "ExecuteTime": {
     "end_time": "2020-09-07T12:31:46.475502Z",
     "start_time": "2020-09-07T12:31:46.466508Z"
    },
    "heading_collapsed": true,
    "hidden": true
   },
   "source": [
    "#### __Searching Node in BST__"
   ]
  },
  {
   "cell_type": "code",
   "execution_count": 97,
   "metadata": {
    "ExecuteTime": {
     "end_time": "2020-09-07T12:30:35.226442Z",
     "start_time": "2020-09-07T12:30:35.200458Z"
    },
    "hidden": true
   },
   "outputs": [
    {
     "data": {
      "text/plain": [
       "'Data Present in left branch'"
      ]
     },
     "execution_count": 97,
     "metadata": {},
     "output_type": "execute_result"
    }
   ],
   "source": [
    "class Node:\n",
    "    def __init__(self, data):\n",
    "        self.left = None\n",
    "        self.right = None\n",
    "        self.data = data\n",
    "        \n",
    "        \n",
    "        \n",
    "def search(root, n):\n",
    "\n",
    "    if root is None or root.data == n:\n",
    "        return (\"Data Present in root at level 0\")\n",
    "    \n",
    "    if root.data < n :\n",
    "        search(root.right , n)\n",
    "        return (\"Data Present in right branch\")\n",
    "    else:     \n",
    "        search(root.left , n)\n",
    "        return (\"Data Present in left branch\")\n",
    "       \n",
    "        \n",
    "# ************ METHOD CALL ************       \n",
    "root= Node(10) \n",
    "\n",
    "root.left = Node(5) \n",
    "root.left.left = Node(3) \n",
    "root.left.right = Node(4)\n",
    "\n",
    "root.left.right.left = Node(1)\n",
    "root.left.right.right = Node(2)\n",
    "\n",
    "root.right = Node(11) \n",
    "root.right.left = Node(12)\n",
    "root.right.right = Node(15)\n",
    "root.right.left.left = Node(13)\n",
    "root.right.left.right = Node(14)\n",
    "\n",
    "n = 5\n",
    "\n",
    "search(root , n)"
   ]
  },
  {
   "cell_type": "markdown",
   "metadata": {
    "heading_collapsed": true,
    "hidden": true
   },
   "source": [
    "#### __Inserting and Deleting Node in BTS__"
   ]
  },
  {
   "cell_type": "code",
   "execution_count": 29,
   "metadata": {
    "ExecuteTime": {
     "end_time": "2020-09-07T16:11:44.634521Z",
     "start_time": "2020-09-07T16:11:44.600545Z"
    },
    "hidden": true
   },
   "outputs": [
    {
     "name": "stdout",
     "output_type": "stream",
     "text": [
      "10\n",
      "20\n",
      "30\n",
      "40\n",
      "50\n",
      "60\n",
      "Minimum Value in Tree: 10\n",
      "20\n",
      "30\n",
      "50\n",
      "60\n",
      "Minimum Value in Tree: 20\n"
     ]
    }
   ],
   "source": [
    "class Node:\n",
    "    def __init__(self, data):\n",
    "        self.left = None\n",
    "        self.right = None\n",
    "        self.data = data\n",
    "        \n",
    "    def printTree(root):\n",
    "        if root.left:\n",
    "            root.left.printTree()\n",
    "        print(root.data)\n",
    "        if root.right:\n",
    "            root.right.printTree()\n",
    "            \n",
    "def printInorder(root):\n",
    "    if root is None:\n",
    "        return 0\n",
    "\n",
    "    if root is not None:\n",
    "        printInorder(root.left)\n",
    "        print(root.data)\n",
    "        printInorder(root.right)\n",
    "\n",
    "def insert(root , val):\n",
    "    if root.data:\n",
    "\n",
    "        if val < root.data:\n",
    "            if root.left is None:\n",
    "                root.left = Node(val)\n",
    "    #             print(\"Node Inserted :\" , root.left.data)\n",
    "            else:\n",
    "                insert(root.left , val)\n",
    "    #             print(\"Node Inserted :\" , root.left.data)\n",
    "        if val > root.data:\n",
    "            if root.right is None:\n",
    "                root.right = Node(val)\n",
    "    #             print(\"Node Inserted :\" , root.right.data)\n",
    "            else:\n",
    "                insert(root.right , val)\n",
    "    #             print(\"Node Inserted :\" , root.right.data)\n",
    "    else:\n",
    "        root.data = Node(val)\n",
    "        \n",
    "def delete(root, val):\n",
    "    if root is None:\n",
    "        return root\n",
    "    \n",
    "    # Node to be deleted is leaf: Simply remove from the tree. \n",
    "\n",
    "    if val < root.data:\n",
    "        root.left = delete(root.left , val)\n",
    "    elif val > root.data:\n",
    "        root.right = delete(root.right , val)\n",
    "        \n",
    "    else:\n",
    "        # If root has only 1 child : Copy the child to the node and delete the child\n",
    "        if root.left is None:\n",
    "            temp = root.right\n",
    "            root = None\n",
    "            return temp\n",
    "        elif root.right is None:\n",
    "            temp = root.left\n",
    "            root = none\n",
    "            return temp\n",
    "        \n",
    "        # If root has two child : Find inorder successor of the node. \n",
    "        # Copy contents of the inorder successor to the node and delete the inorder successor. \n",
    "        # Note that inorder predecessor can also be used.\n",
    "        temp = minValue(root.right)\n",
    "        \n",
    "        root.val = temp.data\n",
    "        \n",
    "        root.right = delete(root.right , temp.data)\n",
    "        \n",
    "    return root\n",
    "        \n",
    "\n",
    "def minValue(root):\n",
    "    current = root\n",
    "    while root.left is not None:\n",
    "        current = root.left\n",
    "    \n",
    "    return current.data\n",
    "\n",
    " \n",
    "# ************ METHOD/FUNCTION CALL ************       \n",
    "root= Node(10)\n",
    "insert(root, 20)\n",
    "insert(root , 30)\n",
    "insert(root , 40)\n",
    "insert(root , 50)\n",
    "insert(root , 60)\n",
    "\n",
    "printTree(root)\n",
    "\n",
    "print(\"Minimum Value in Tree:\" , minValue(root))\n",
    "\n",
    "root = delete(root , 40)\n",
    "\n",
    "# printInorder(root)\n",
    "\n",
    "root = delete(root , 10)\n",
    "\n",
    "printInorder(root)\n",
    "\n",
    "print(\"Minimum Value in Tree:\" , minValue(root))\n",
    "\n"
   ]
  },
  {
   "cell_type": "markdown",
   "metadata": {
    "heading_collapsed": true,
    "hidden": true
   },
   "source": [
    "#### __Construct a Balanced BST From a Sorted Array__"
   ]
  },
  {
   "cell_type": "code",
   "execution_count": 3,
   "metadata": {
    "ExecuteTime": {
     "end_time": "2020-09-07T16:50:06.054099Z",
     "start_time": "2020-09-07T16:50:06.022086Z"
    },
    "hidden": true,
    "scrolled": true
   },
   "outputs": [
    {
     "name": "stdout",
     "output_type": "stream",
     "text": [
      "PreOrder Traversal of constructed BST \n",
      "4\n",
      "2\n",
      "1\n",
      "3\n",
      "6\n",
      "5\n",
      "7\n"
     ]
    }
   ],
   "source": [
    "class Node:\n",
    "    def __init__(self, data):\n",
    "        self.data = data\n",
    "        self.left = None\n",
    "        self.right = None\n",
    "        \n",
    "            \n",
    "def sortedArrayToBST(arr):\n",
    "    if not arr:\n",
    "        return None\n",
    "    \n",
    "    mid = (len(arr)) // 2\n",
    "    \n",
    "    root = Node(arr[mid])\n",
    "    \n",
    "    root.left = sortedArrayToBST(arr[:mid]) # values less than mid\n",
    "    \n",
    "    root.right = sortedArrayToBST(arr[mid+1:]) # values greater than mid\n",
    "    return root\n",
    "\n",
    "\n",
    "def PreOrderBST(node):               # Utility function\n",
    "    if node is None:\n",
    "        return 0\n",
    "    \n",
    "    if node is not None:\n",
    "        print(node.data)\n",
    "        PreOrderBST(node.left)\n",
    "        PreOrderBST(node.right)    \n",
    "    \n",
    "            \n",
    "# ************ METHOD/FUNCTION CALL ************   \n",
    "array = [1, 2, 3, 4, 5, 6, 7]\n",
    "root= sortedArrayToBST(array)\n",
    "print (\"PreOrder Traversal of constructed BST \")\n",
    "PreOrderBST(root)\n",
    "    "
   ]
  },
  {
   "cell_type": "markdown",
   "metadata": {
    "heading_collapsed": true,
    "hidden": true
   },
   "source": [
    "#### __Check if a Binary Tree is a BST__"
   ]
  },
  {
   "cell_type": "code",
   "execution_count": 14,
   "metadata": {
    "ExecuteTime": {
     "end_time": "2020-09-07T17:08:02.066509Z",
     "start_time": "2020-09-07T17:08:02.046513Z"
    },
    "hidden": true
   },
   "outputs": [
    {
     "data": {
      "text/plain": [
       "True"
      ]
     },
     "execution_count": 14,
     "metadata": {},
     "output_type": "execute_result"
    }
   ],
   "source": [
    "Maximum = 100\n",
    "Minimum = -100\n",
    "  \n",
    "\n",
    "class Node: \n",
    "  \n",
    "    def __init__(self, data): \n",
    "        self.left = None\n",
    "        self.right = None\n",
    "        self.data = data  \n",
    "  \n",
    "  \n",
    "\n",
    "def isBST(root):\n",
    "    return (checkIsBST(root, Maximum , Minimum))\n",
    "    \n",
    "    \n",
    "def checkIsBST(root, Maximum ,  Minimum ): \n",
    "      \n",
    "    if root is None: \n",
    "        return True\n",
    "\n",
    "    if root.data < Minimum or root.data > Maximum: \n",
    "        return False\n",
    "  \n",
    "    return (checkIsBST(root.left, root.data -1 , Minimum) and\n",
    "          checkIsBST(root.right, Maximum , root.data+1)) \n",
    "  \n",
    "# ************ METHOD/FUNCTION CALL ************  \n",
    "root = Node(4) \n",
    "root.left = Node(2) \n",
    "root.right = Node(5) \n",
    "root.left.left = Node(1) \n",
    "root.left.right = Node(3)\n",
    "  \n",
    "isBST(root)"
   ]
  },
  {
   "cell_type": "markdown",
   "metadata": {
    "heading_collapsed": true,
    "hidden": true
   },
   "source": [
    "#### __Find the Lowest Common Ancestor in a BST__"
   ]
  },
  {
   "cell_type": "code",
   "execution_count": 22,
   "metadata": {
    "ExecuteTime": {
     "end_time": "2020-09-07T17:22:51.960704Z",
     "start_time": "2020-09-07T17:22:51.944704Z"
    },
    "hidden": true
   },
   "outputs": [
    {
     "name": "stdout",
     "output_type": "stream",
     "text": [
      "LCA of 13 and 14 is 11\n",
      "LCA of 2 and 3 is 5\n"
     ]
    }
   ],
   "source": [
    "\n",
    "class Node: \n",
    "  \n",
    "    def __init__(self, data): \n",
    "        self.left = None\n",
    "        self.right = None\n",
    "        self.data = data\n",
    "        \n",
    "def lcaInBST(root , n1 , n2):  \n",
    "    while root:\n",
    "        if root.data > n1 and root.data > n2:\n",
    "            root = root.left\n",
    "            \n",
    "        elif root.data < n1 and root.data < n2:\n",
    "            root = root.right\n",
    "            \n",
    "        else:\n",
    "            break\n",
    "            \n",
    "        return root\n",
    "\n",
    "# ************ METHOD/FUNCTION CALL ************ \n",
    "root= Node(10) \n",
    "\n",
    "root.left = Node(5) \n",
    "root.left.left = Node(3) \n",
    "root.left.right = Node(4)\n",
    "\n",
    "root.left.right.left = Node(1)\n",
    "root.left.right.right = Node(2)\n",
    "\n",
    "root.right = Node(11) \n",
    "root.right.left = Node(12)\n",
    "root.right.right = Node(15)\n",
    "root.right.left.left = Node(13)\n",
    "root.right.left.right = Node(14)\n",
    "\n",
    "\n",
    "n1 = 13 ; n2 =14 # should be 15\n",
    "result = lcaInBST(root , n1 , n2)\n",
    "print (\"LCA of %d and %d is %d\" %(n1, n2, result.data))\n",
    "\n",
    "n1 = 2 ; n2 =3 # should be 15\n",
    "result = lcaInBST(root , n1 , n2)\n",
    "print (\"LCA of %d and %d is %d\" %(n1, n2, result.data))"
   ]
  },
  {
   "cell_type": "code",
   "execution_count": null,
   "metadata": {
    "hidden": true
   },
   "outputs": [],
   "source": []
  }
 ],
 "metadata": {
  "kernelspec": {
   "display_name": "Python 3",
   "language": "python",
   "name": "python3"
  },
  "nbTranslate": {
   "displayLangs": [
    "*"
   ],
   "hotkey": "alt-t",
   "langInMainMenu": true,
   "sourceLang": "en",
   "targetLang": "fr",
   "useGoogleTranslate": true
  },
  "toc": {
   "base_numbering": 1,
   "nav_menu": {},
   "number_sections": true,
   "sideBar": false,
   "skip_h1_title": true,
   "title_cell": "Table of Contents",
   "title_sidebar": "Contents",
   "toc_cell": false,
   "toc_position": {},
   "toc_section_display": true,
   "toc_window_display": false
  },
  "varInspector": {
   "cols": {
    "lenName": 16,
    "lenType": 16,
    "lenVar": 40
   },
   "kernels_config": {
    "python": {
     "delete_cmd_postfix": "",
     "delete_cmd_prefix": "del ",
     "library": "var_list.py",
     "varRefreshCmd": "print(var_dic_list())"
    },
    "r": {
     "delete_cmd_postfix": ") ",
     "delete_cmd_prefix": "rm(",
     "library": "var_list.r",
     "varRefreshCmd": "cat(var_dic_list()) "
    }
   },
   "types_to_exclude": [
    "module",
    "function",
    "builtin_function_or_method",
    "instance",
    "_Feature"
   ],
   "window_display": false
  }
 },
 "nbformat": 4,
 "nbformat_minor": 2
}
