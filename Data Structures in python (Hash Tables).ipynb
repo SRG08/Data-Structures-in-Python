{
 "cells": [
  {
   "cell_type": "markdown",
   "metadata": {},
   "source": [
    "# __Data Structures in Python (Hash Tables)__ "
   ]
  },
  {
   "cell_type": "markdown",
   "metadata": {},
   "source": [
    "## __Intriduction to Hash Table__"
   ]
  },
  {
   "cell_type": "markdown",
   "metadata": {},
   "source": [
    "* Hashing is a powerful technique that helps reduce the time complexity of an algorithm, in many cases.\n",
    "* Hash Table are also known as 'Dictionaries' in Python"
   ]
  },
  {
   "cell_type": "markdown",
   "metadata": {
    "heading_collapsed": true
   },
   "source": [
    "### __Find if there are two elements wtih given sum ( set() )__"
   ]
  },
  {
   "cell_type": "code",
   "execution_count": 16,
   "metadata": {
    "ExecuteTime": {
     "end_time": "2020-09-06T16:03:49.449851Z",
     "start_time": "2020-09-06T16:03:49.437858Z"
    },
    "hidden": true
   },
   "outputs": [
    {
     "name": "stdout",
     "output_type": "stream",
     "text": [
      "Elements with the given sum (10,6)\n"
     ]
    }
   ],
   "source": [
    "array = [1, 4, 45, 6, 10, 8] \n",
    "sum_ = 16\n",
    "\n",
    "def findSumArray(array , sum_):\n",
    "    lenArr = len(array)\n",
    "    \n",
    "    s = set()\n",
    "    \n",
    "    for i in range(0 , lenArr):\n",
    "        temp = (sum_ - array[i])\n",
    "        if temp in s:\n",
    "            print(\"Elements with the given sum ({},{})\" .format(array[i] , temp))\n",
    "        s.add(array[i])\n",
    "            \n",
    "findSumArray(array , sum_)"
   ]
  },
  {
   "cell_type": "markdown",
   "metadata": {
    "heading_collapsed": true
   },
   "source": [
    "### __Find the length of largest subarray with 0 sum ( Dictionary {} )__"
   ]
  },
  {
   "cell_type": "code",
   "execution_count": 41,
   "metadata": {
    "ExecuteTime": {
     "end_time": "2020-09-07T03:43:25.955751Z",
     "start_time": "2020-09-07T03:43:25.935757Z"
    },
    "hidden": true
   },
   "outputs": [
    {
     "name": "stdout",
     "output_type": "stream",
     "text": [
      "largest subarray with 0 sum is : 11\n"
     ]
    }
   ],
   "source": [
    "arr = [10, 85 , -8 , -95 , -4  , 2 , 6 , 4 ]\n",
    "\n",
    "def maxLength(array):\n",
    "    \n",
    "    length = len(array)\n",
    "    \n",
    "    hash_Map = {}\n",
    "    \n",
    "    Sum_ = 0\n",
    "    \n",
    "    max_len = 0\n",
    "    \n",
    "    for i in range(length):\n",
    "        \n",
    "        Sum_ += array[i]\n",
    "        \n",
    "        if array[i] == 0 and max_len == 0:\n",
    "            max_len = 1\n",
    "            \n",
    "        if Sum_ == 0:\n",
    "            max_len = i+1\n",
    "            \n",
    "        if Sum_ in hash_Map:\n",
    "            max_len = max(max_len, i - hash_Map[Sum_])\n",
    "        else:\n",
    "            hash_Map[Sum_] = i\n",
    "        \n",
    "    return max_len\n",
    "    \n",
    "\n",
    "print(\"largest subarray with 0 sum is :\" , maxLength(arr))"
   ]
  },
  {
   "cell_type": "code",
   "execution_count": null,
   "metadata": {
    "hidden": true
   },
   "outputs": [],
   "source": []
  }
 ],
 "metadata": {
  "kernelspec": {
   "display_name": "Python 3",
   "language": "python",
   "name": "python3"
  },
  "language_info": {
   "codemirror_mode": {
    "name": "ipython",
    "version": 3
   },
   "file_extension": ".py",
   "mimetype": "text/x-python",
   "name": "python",
   "nbconvert_exporter": "python",
   "pygments_lexer": "ipython3",
   "version": "3.6.5"
  },
  "nbTranslate": {
   "displayLangs": [
    "*"
   ],
   "hotkey": "alt-t",
   "langInMainMenu": true,
   "sourceLang": "en",
   "targetLang": "fr",
   "useGoogleTranslate": true
  },
  "toc": {
   "base_numbering": 1,
   "nav_menu": {},
   "number_sections": true,
   "sideBar": false,
   "skip_h1_title": true,
   "title_cell": "Table of Contents",
   "title_sidebar": "Contents",
   "toc_cell": false,
   "toc_position": {},
   "toc_section_display": true,
   "toc_window_display": false
  },
  "varInspector": {
   "cols": {
    "lenName": 16,
    "lenType": 16,
    "lenVar": 40
   },
   "kernels_config": {
    "python": {
     "delete_cmd_postfix": "",
     "delete_cmd_prefix": "del ",
     "library": "var_list.py",
     "varRefreshCmd": "print(var_dic_list())"
    },
    "r": {
     "delete_cmd_postfix": ") ",
     "delete_cmd_prefix": "rm(",
     "library": "var_list.r",
     "varRefreshCmd": "cat(var_dic_list()) "
    }
   },
   "types_to_exclude": [
    "module",
    "function",
    "builtin_function_or_method",
    "instance",
    "_Feature"
   ],
   "window_display": false
  }
 },
 "nbformat": 4,
 "nbformat_minor": 2
}
